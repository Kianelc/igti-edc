{
 "cells": [
  {
   "cell_type": "code",
   "execution_count": null,
   "id": "8f17dabb",
   "metadata": {},
   "outputs": [],
   "source": [
    "import pyspark"
   ]
  },
  {
   "cell_type": "code",
   "execution_count": null,
   "id": "ccb814a7",
   "metadata": {},
   "outputs": [],
   "source": [
    "#Ler os dados do enem 2020\n",
    "enem = (\n",
    "    spark\n",
    "    .read\n",
    "    .format(\"csv\")\n",
    "    .option(\"header\", True)\n",
    "    .option(\"inferSchema\", True)\n",
    "    .option(\"delimiter\", \";\")\n",
    "    .load(\"s3://datalake-kiane-2023/raw-data/\")\n",
    ")"
   ]
  },
  {
   "cell_type": "code",
   "execution_count": null,
   "id": "2a1270a7",
   "metadata": {},
   "outputs": [],
   "source": [
    "enem.printSchema()"
   ]
  },
  {
   "cell_type": "code",
   "execution_count": null,
   "id": "936cf171",
   "metadata": {},
   "outputs": [],
   "source": [
    "df = (\n",
    "    enem\n",
    "    .select(\"NU_IDADE\", \"TP_SEXO\", \"TP_ESTADO_CIVIL\", \"TP_COR_RACA\", \"TP_NACIONALIDADE\",\n",
    "            \"NU_NOTA_CN\", \"NU_NOTA_CH\", \"NU_NOTA_LC\", \"NU_NOTA_MT\")\n",
    ")"
   ]
  },
  {
   "cell_type": "code",
   "execution_count": null,
   "id": "dcf974e1",
   "metadata": {},
   "outputs": [],
   "source": [
    "df.show(10)"
   ]
  },
  {
   "cell_type": "code",
   "execution_count": null,
   "id": "b80f484d",
   "metadata": {},
   "outputs": [],
   "source": [
    "df.count()"
   ]
  },
  {
   "cell_type": "code",
   "execution_count": null,
   "id": "d9b6d3cc",
   "metadata": {},
   "outputs": [],
   "source": [
    "from pyspark.sql.functions import mean, max, min, col, count"
   ]
  },
  {
   "cell_type": "code",
   "execution_count": null,
   "id": "6bda21d9",
   "metadata": {},
   "outputs": [],
   "source": [
    "(\n",
    "    df\n",
    "    .groupby(\"TP_SEXO\")\n",
    "    .agg(\n",
    "        mean(col(\"NU_IDADE\")).alias(\"MED_IDADE\"),\n",
    "        count(col(\"TP_SEXO\")).alias(\"CONTAGEM\"),\n",
    "        max(col(\"NU_NOTA_MT\")).alias(\"MAX_NOTA_MT\"),\n",
    "        min(col(\"NU_NOTA_MT\")).alias(\"MIN_NOTA_MT\")\n",
    "    )\n",
    "    .show()\n",
    ")"
   ]
  },
  {
   "cell_type": "code",
   "execution_count": null,
   "id": "1bd64531",
   "metadata": {},
   "outputs": [],
   "source": [
    "(\n",
    "    enem\n",
    "    .write\n",
    "    .mode(\"overwrite\")\n",
    "    .format(\"parquet\")\n",
    "    .partitionBy(\"year\")\n",
    "    .save(\"s3://datalake-kiane-2023/staging/enem\")\n",
    ")"
   ]
  },
  {
   "cell_type": "code",
   "execution_count": null,
   "id": "bbe2c917",
   "metadata": {},
   "outputs": [],
   "source": [
    "spark.stop()"
   ]
  }
 ],
 "metadata": {
  "kernelspec": {
   "display_name": "Python 3 (ipykernel)",
   "language": "python",
   "name": "python3"
  },
  "language_info": {
   "codemirror_mode": {
    "name": "ipython",
    "version": 3
   },
   "file_extension": ".py",
   "mimetype": "text/x-python",
   "name": "python",
   "nbconvert_exporter": "python",
   "pygments_lexer": "ipython3",
   "version": "3.9.13"
  }
 },
 "nbformat": 4,
 "nbformat_minor": 5
}
